{
 "cells": [
  {
   "cell_type": "markdown",
   "metadata": {},
   "source": [
    "# Modeling and Simulation in Python\n",
    "\n",
    "Project 1 example\n",
    "\n",
    "Copyright 2018 Allen Downey\n",
    "\n",
    "License: [Creative Commons Attribution 4.0 International](https://creativecommons.org/licenses/by/4.0)\n"
   ]
  },
  {
   "cell_type": "code",
   "execution_count": 4,
   "metadata": {},
   "outputs": [],
   "source": [
    "# Configure Jupyter so figures appear in the notebook\n",
    "%matplotlib inline\n",
    "\n",
    "# Configure Jupyter to display the assigned value after an assignment\n",
    "%config InteractiveShell.ast_node_interactivity='last_expr_or_assign'\n",
    "\n",
    "# import functions from the modsim library\n",
    "from modsim import *"
   ]
  },
  {
   "cell_type": "markdown",
   "metadata": {},
   "source": [
    "The Population stats were inputed manually then plotted"
   ]
  },
  {
   "cell_type": "code",
   "execution_count": 5,
   "metadata": {},
   "outputs": [
    {
     "data": {
      "image/png": "[encoded data removed]",
      "text/plain": [
       "<Figure size 432x288 with 1 Axes>"
      ]
     },
     "metadata": {
      "needs_background": "light"
     },
     "output_type": "display_data"
    }
   ],
   "source": [
    "popstats = [1415045928, 1409517397, 1403500365, 1397028553, 1359755102, 1321623490, 1283198970, 1239940004, 1172445200, 1070863389, 993877310, 920945083, 824788457, 722562183, 657686143, 610834396]\n",
    "t = [2018, 2017, 2016, 2015, 2010, 2005, 2000, 1995, 1990, 1985, 1980, 1975, 1970, 1965, 1960, 1955]\n",
    "plot(t, popstats)\n",
    "\n",
    "############################################################################\n",
    "##                Plotting the data from the statistics                   ##\n",
    "############################################################################\n",
    "\n",
    "decorate(xlabel='Year',\n",
    "         ylabel='Population (Billion)',\n",
    "         title='Population of China by Year')"
   ]
  },
  {
   "cell_type": "markdown",
   "metadata": {},
   "source": []
  },
  {
   "cell_type": "code",
   "execution_count": 6,
   "metadata": {},
   "outputs": [
    {
     "data": {
      "text/html": [
       "<div>\n",
       "<style scoped>\n",
       "    .dataframe tbody tr th:only-of-type {\n",
       "        vertical-align: middle;\n",
       "    }\n",
       "\n",
       "    .dataframe tbody tr th {\n",
       "        vertical-align: top;\n",
       "    }\n",
       "\n",
       "    .dataframe thead th {\n",
       "        text-align: right;\n",
       "    }\n",
       "</style>\n",
       "<table border=\"1\" class=\"dataframe\">\n",
       "  <thead>\n",
       "    <tr style=\"text-align: right;\">\n",
       "      <th></th>\n",
       "      <th>values</th>\n",
       "    </tr>\n",
       "  </thead>\n",
       "  <tbody>\n",
       "    <tr>\n",
       "      <th>birth_rate1</th>\n",
       "      <td>5.555556e-02</td>\n",
       "    </tr>\n",
       "    <tr>\n",
       "      <th>mature_rate</th>\n",
       "      <td>3.703704e-02</td>\n",
       "    </tr>\n",
       "    <tr>\n",
       "      <th>death_rate</th>\n",
       "      <td>4.166667e-02</td>\n",
       "    </tr>\n",
       "    <tr>\n",
       "      <th>t_0</th>\n",
       "      <td>1.950000e+03</td>\n",
       "    </tr>\n",
       "    <tr>\n",
       "      <th>t_end</th>\n",
       "      <td>2.016000e+03</td>\n",
       "    </tr>\n",
       "    <tr>\n",
       "      <th>pop</th>\n",
       "      <td>6.108344e+08</td>\n",
       "    </tr>\n",
       "  </tbody>\n",
       "</table>\n",
       "</div>"
      ],
      "text/plain": [
       "birth_rate1    5.555556e-02\n",
       "mature_rate    3.703704e-02\n",
       "death_rate     4.166667e-02\n",
       "t_0            1.950000e+03\n",
       "t_end          2.016000e+03\n",
       "pop            6.108344e+08\n",
       "dtype: float64"
      ]
     },
     "execution_count": 6,
     "metadata": {},
     "output_type": "execute_result"
    }
   ],
   "source": [
    "pop0 = 610834396\n",
    "age0 = 0.5 \n",
    "onechild0 = 0.2\n",
    "exceptions0 = 0.02\n",
    "birthrate0 = 0.01\n",
    "birthrate20 = 0.015\n",
    "deathrate = 0.005\n",
    "\n",
    "\n",
    "Popu = State(pop = pop0)\n",
    "NoChild = System(age = age0, onechild = onechild0, exceptions = exceptions0, birthrate = birthrate0,\n",
    "                birthrate2 = birthrate20, deathrate = deathrate, t0 = 1955, tf = 2016)\n",
    "\n",
    "\n",
    "YesChild = System(birth_rate1 = 1/18,\n",
    "                mature_rate = 1/27,\n",
    "                death_rate = 1/24,\n",
    "                t_0 = 1950,\n",
    "                t_end = 2016,\n",
    "                pop = pop0)"
   ]
  },
  {
   "cell_type": "code",
   "execution_count": 7,
   "metadata": {},
   "outputs": [],
   "source": [
    "def update(Popu, t, NoChild, YesChild):\n",
    "    if t>1979 and t<2016:\n",
    "        growth1 = system.age * (system.onechild - system.exceptions) * system.birthrate * Popu\n",
    "        growth2 = system.age *  system.exceptions * system.birthrate * Popu\n",
    "    else:\n",
    "        growth3 = system.age * system.birth_rate1 * Popu\n",
    "         \n",
    "    NoPolicy = growth3\n",
    "    YesPolicy = growth1 + growth2\n",
    "        \n",
    "    return NoPolicy\n",
    "\n"
   ]
  },
  {
   "cell_type": "code",
   "execution_count": 9,
   "metadata": {},
   "outputs": [
    {
     "ename": "NameError",
     "evalue": "name 'NoPolicy' is not defined",
     "output_type": "error",
     "traceback": [
      "\u001b[1;31m---------------------------------------------------------------------------\u001b[0m",
      "\u001b[1;31mNameError\u001b[0m                                 Traceback (most recent call last)",
      "\u001b[1;32m<ipython-input-9-efc5ca345cb9>\u001b[0m in \u001b[0;36m<module>\u001b[1;34m()\u001b[0m\n\u001b[1;32m----> 1\u001b[1;33m \u001b[0mprint\u001b[0m \u001b[1;33m(\u001b[0m\u001b[0mNoPolicy\u001b[0m\u001b[1;33m)\u001b[0m\u001b[1;33m\u001b[0m\u001b[0m\n\u001b[0m",
      "\u001b[1;31mNameError\u001b[0m: name 'NoPolicy' is not defined"
     ]
    }
   ],
   "source": [
    "print (NoPolicy)"
   ]
  },
  {
   "cell_type": "code",
   "execution_count": 23,
   "metadata": {},
   "outputs": [],
   "source": [
    "#function outputting next year's population\n",
    "#Stats = System(age, onechild,exceptions);\n",
    "#pop = 1 #current population\n",
    "#system.age = 0.59 #percentage of population in age range to have kids\n",
    "#system.onechild = x #percentage of couples that have not had a child\n",
    "#system.exceptions = y #percentage of couples that are an exception to one child policy; minorities etc.\n",
    " \n",
    "#def popchange(sytem):\n",
    "#    newpop = age * (onechild - exceptions) * pop\n",
    "#    return pop + newpop"
   ]
  },
  {
   "cell_type": "code",
   "execution_count": null,
   "metadata": {},
   "outputs": [],
   "source": []
  },
  {
   "cell_type": "code",
   "execution_count": null,
   "metadata": {},
   "outputs": [],
   "source": []
  }
 ],
 "metadata": {
  "kernelspec": {
   "display_name": "Python 3",
   "language": "python",
   "name": "python3"
  },
  "language_info": {
   "codemirror_mode": {
    "name": "ipython",
    "version": 3
   },
   "file_extension": ".py",
   "mimetype": "text/x-python",
   "name": "python",
   "nbconvert_exporter": "python",
   "pygments_lexer": "ipython3",
   "version": "3.6.6"
  }
 },
 "nbformat": 4,
 "nbformat_minor": 2
}
