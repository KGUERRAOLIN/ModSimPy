{
 "cells": [
  {
   "cell_type": "markdown",
   "metadata": {},
   "source": [
    "# Clothing Material and Heat Transfer\n",
    "\n",
    "Kristtiya Guerra and Audrey Lee"
   ]
  },
  {
   "cell_type": "code",
   "execution_count": 1,
   "metadata": {},
   "outputs": [],
   "source": [
    "# Configure Jupyter so figures appear in the notebook\n",
    "%matplotlib inline\n",
    "\n",
    "# Configure Jupyter to display the assigned value after an assignment\n",
    "%config InteractiveShell.ast_node_interactivity='last_expr_or_assign'\n",
    "\n",
    "# import functions from the modsim.py module\n",
    "from modsim import *"
   ]
  },
  {
   "cell_type": "markdown",
   "metadata": {},
   "source": [
    "### The Human Body\n",
    "\n"
   ]
  },
  {
   "cell_type": "markdown",
   "metadata": {},
   "source": [
    "I will set a `State` object for the initial temperature of the human body (in Kelvin)."
   ]
  },
  {
   "cell_type": "code",
   "execution_count": 2,
   "metadata": {},
   "outputs": [
    {
     "data": {
      "text/html": [
       "<div>\n",
       "<style scoped>\n",
       "    .dataframe tbody tr th:only-of-type {\n",
       "        vertical-align: middle;\n",
       "    }\n",
       "\n",
       "    .dataframe tbody tr th {\n",
       "        vertical-align: top;\n",
       "    }\n",
       "\n",
       "    .dataframe thead th {\n",
       "        text-align: right;\n",
       "    }\n",
       "</style>\n",
       "<table border=\"1\" class=\"dataframe\">\n",
       "  <thead>\n",
       "    <tr style=\"text-align: right;\">\n",
       "      <th></th>\n",
       "      <th>values</th>\n",
       "    </tr>\n",
       "  </thead>\n",
       "  <tbody>\n",
       "    <tr>\n",
       "      <th>HumanTemp</th>\n",
       "      <td>3.101500e+02</td>\n",
       "    </tr>\n",
       "    <tr>\n",
       "      <th>dQdt</th>\n",
       "      <td>0.000000e+00</td>\n",
       "    </tr>\n",
       "    <tr>\n",
       "      <th>top</th>\n",
       "      <td>8.802817e-08</td>\n",
       "    </tr>\n",
       "    <tr>\n",
       "      <th>bottom</th>\n",
       "      <td>8.802817e-08</td>\n",
       "    </tr>\n",
       "    <tr>\n",
       "      <th>socks</th>\n",
       "      <td>8.802817e-08</td>\n",
       "    </tr>\n",
       "    <tr>\n",
       "      <th>rHuman</th>\n",
       "      <td>3.874000e-03</td>\n",
       "    </tr>\n",
       "    <tr>\n",
       "      <th>Atop</th>\n",
       "      <td>1.600000e+00</td>\n",
       "    </tr>\n",
       "    <tr>\n",
       "      <th>Abottom</th>\n",
       "      <td>1.600000e+00</td>\n",
       "    </tr>\n",
       "    <tr>\n",
       "      <th>Asocks</th>\n",
       "      <td>1.600000e+00</td>\n",
       "    </tr>\n",
       "  </tbody>\n",
       "</table>\n",
       "</div>"
      ],
      "text/plain": [
       "HumanTemp    3.101500e+02\n",
       "dQdt         0.000000e+00\n",
       "top          8.802817e-08\n",
       "bottom       8.802817e-08\n",
       "socks        8.802817e-08\n",
       "rHuman       3.874000e-03\n",
       "Atop         1.600000e+00\n",
       "Abottom      1.600000e+00\n",
       "Asocks       1.600000e+00\n",
       "dtype: float64"
      ]
     },
     "execution_count": 2,
     "metadata": {},
     "output_type": "execute_result"
    }
   ],
   "source": [
    "meter = UNITS.meter\n",
    "watt = UNITS.watt\n",
    "minute = UNITS.minute\n",
    "kelvin = UNITS.kelvin\n",
    "celsius = UNITS.celsius\n",
    "\n",
    "HumanTemp = 37 + 273.15 \n",
    "WinterInit = State(HumanTemp=HumanTemp, dQdt = 0,  \n",
    "                   top =0.41/1.136, bottom=0.21/1.136, socks=0.04/1.136, rHuman=.003874,\n",
    "                   Atop=1.6*.47, Abottom=1.6*.45, Asocks=1.6*.07)\n",
    "\n",
    "SummerInit = State(HumanTemp=HumanTemp, dQdt = 0, \n",
    "                   top =0.07/1.136, bottom=0.09/1.136, socks=0.03/1.136, rHuman=.003874,\n",
    "                   Atop=1.6*.12, Abottom=1.6*.18, Asocks=1.6*.05)\n",
    "\n",
    "LoungeInit = State(HumanTemp=HumanTemp, dQdt = 0, \n",
    "                   top =0.38/1.136, bottom=0.34/1.136, socks=0.03/1.136, rHuman=.003874,\n",
    "                   Atop=1.6*.45, Abottom=1.6*.44, Asocks=1.6*.07)\n",
    "\n",
    "DressInit = State(HumanTemp=HumanTemp, dQdt = 0, \n",
    "                   top =0.83/1.136, bottom=0.59/1.136, socks=0.02/1.136, rHuman=.003874,\n",
    "                   Atop=1.6*.40, Abottom=1.6*.19, Asocks=1.6*.35)\n",
    "\n",
    "Nothing = State(HumanTemp=HumanTemp, dQdt = 0, \n",
    "                   top =0.0000001/1.136, bottom=0.0000001/1.136, socks=0.0000001/1.136, rHuman=.003874,\n",
    "                   Atop=1.6, Abottom=1.6, Asocks=1.6)"
   ]
  },
  {
   "cell_type": "markdown",
   "metadata": {},
   "source": [
    "And a `System` object to contain the system parameters."
   ]
  },
  {
   "cell_type": "code",
   "execution_count": 3,
   "metadata": {},
   "outputs": [
    {
     "data": {
      "text/html": [
       "<div>\n",
       "<style scoped>\n",
       "    .dataframe tbody tr th:only-of-type {\n",
       "        vertical-align: middle;\n",
       "    }\n",
       "\n",
       "    .dataframe tbody tr th {\n",
       "        vertical-align: top;\n",
       "    }\n",
       "\n",
       "    .dataframe thead th {\n",
       "        text-align: right;\n",
       "    }\n",
       "</style>\n",
       "<table border=\"1\" class=\"dataframe\">\n",
       "  <thead>\n",
       "    <tr style=\"text-align: right;\">\n",
       "      <th></th>\n",
       "      <th>values</th>\n",
       "    </tr>\n",
       "  </thead>\n",
       "  <tbody>\n",
       "    <tr>\n",
       "      <th>WinterInit</th>\n",
       "      <td>HumanTemp    310.150000\n",
       "dQdt           0.00000...</td>\n",
       "    </tr>\n",
       "    <tr>\n",
       "      <th>SummerInit</th>\n",
       "      <td>HumanTemp    310.150000\n",
       "dQdt           0.00000...</td>\n",
       "    </tr>\n",
       "    <tr>\n",
       "      <th>LoungeInit</th>\n",
       "      <td>HumanTemp    310.150000\n",
       "dQdt           0.00000...</td>\n",
       "    </tr>\n",
       "    <tr>\n",
       "      <th>DressInit</th>\n",
       "      <td>HumanTemp    310.150000\n",
       "dQdt           0.00000...</td>\n",
       "    </tr>\n",
       "    <tr>\n",
       "      <th>Nothing</th>\n",
       "      <td>HumanTemp    3.101500e+02\n",
       "dQdt         0.00000...</td>\n",
       "    </tr>\n",
       "    <tr>\n",
       "      <th>T_env</th>\n",
       "      <td>278.15</td>\n",
       "    </tr>\n",
       "    <tr>\n",
       "      <th>t_end</th>\n",
       "      <td>0.02</td>\n",
       "    </tr>\n",
       "    <tr>\n",
       "      <th>dt</th>\n",
       "      <td>0.0007</td>\n",
       "    </tr>\n",
       "  </tbody>\n",
       "</table>\n",
       "</div>"
      ],
      "text/plain": [
       "WinterInit    HumanTemp    310.150000\n",
       "dQdt           0.00000...\n",
       "SummerInit    HumanTemp    310.150000\n",
       "dQdt           0.00000...\n",
       "LoungeInit    HumanTemp    310.150000\n",
       "dQdt           0.00000...\n",
       "DressInit     HumanTemp    310.150000\n",
       "dQdt           0.00000...\n",
       "Nothing       HumanTemp    3.101500e+02\n",
       "dQdt         0.00000...\n",
       "T_env                                                    278.15\n",
       "t_end                                                      0.02\n",
       "dt                                                       0.0007\n",
       "dtype: object"
      ]
     },
     "execution_count": 3,
     "metadata": {},
     "output_type": "execute_result"
    }
   ],
   "source": [
    "human = System(WinterInit=WinterInit, \n",
    "               SummerInit=SummerInit,\n",
    "               LoungeInit=LoungeInit,\n",
    "               DressInit=DressInit,\n",
    "               Nothing=Nothing,\n",
    "               T_env= 5+273.15,\n",
    "               t_end=0.02,\n",
    "               dt=0.0007)"
   ]
  },
  {
   "cell_type": "code",
   "execution_count": null,
   "metadata": {},
   "outputs": [],
   "source": []
  },
  {
   "cell_type": "code",
   "execution_count": 4,
   "metadata": {},
   "outputs": [],
   "source": [
    "def Clothes(state, t, system):\n",
    "    \"\"\"Update the thermal transfer model.\n",
    "    \n",
    "    state: State (temp)\n",
    "    t: time\n",
    "    system: System object\n",
    "    \n",
    "    returns: State (temp)\n",
    "    \"\"\"\n",
    "    unpack(system)\n",
    "    \n",
    "    HumanTemp, dQdt, top, bottom, socks, rHuman, Atop, Abottom, Asocks = state\n",
    "    #mass1, mass2, mass3, specHeat1, specHeat2, specHeat3, \n",
    "    T_delta = HumanTemp-T_env\n",
    "    Q = (Atop * (T_delta)/top) + (Abottom * (T_delta)/bottom) + (Asocks * (T_delta)/socks) + ((1.6-(Atop+Abottom+Asocks)) * T_delta/rHuman)\n",
    "    dQdt += Q *dt\n",
    "    #dTdt = dQdt / ((mass1+mass2+mass3) * (specHeat1+specHeat2+specHeat3))\n",
    "    #HumanTemp -= (dTdt) * dt\n",
    "    \n",
    "    return State(HumanTemp=HumanTemp, dQdt=dQdt, \n",
    "                 top=top, bottom=bottom, socks=socks, rHuman=rHuman, Atop=Atop, Abottom=Abottom, Asocks=Asocks)\n",
    "#mass1=mass1, mass2=mass2, mass3=mass3,specHeat1=specHeat1, specHeat2=specHeat2, specHeat3=specHeat3, "
   ]
  },
  {
   "cell_type": "code",
   "execution_count": null,
   "metadata": {},
   "outputs": [],
   "source": []
  },
  {
   "cell_type": "code",
   "execution_count": 5,
   "metadata": {},
   "outputs": [],
   "source": [
    "def run_simulation(system, Clothes):\n",
    "    \"\"\"Runs a simulation of the system.\n",
    "    \n",
    "    Add a TimeFrame to the System: results\n",
    "    \n",
    "    system: System object\n",
    "    update_func: function that updates state\n",
    "    \"\"\"\n",
    "    unpack(system)\n",
    "    \n",
    "    frame = TimeFrame(columns=WinterInit.index)\n",
    "    frame2 = TimeFrame(columns=SummerInit.index)\n",
    "    frame3=TimeFrame(columns=LoungeInit.index)\n",
    "    frame4=TimeFrame(columns=DressInit.index)\n",
    "    frame5=TimeFrame(columns=Nothing.index)\n",
    "    \n",
    "    frame.row[0] = WinterInit\n",
    "    frame2.row[0] = SummerInit\n",
    "    frame3.row[0] = LoungeInit\n",
    "    frame4.row[0] = DressInit\n",
    "    #frame5.row[0] = Nothing\n",
    "    \n",
    "    ts = linrange(0, t_end, dt)\n",
    "    \n",
    "    for t in ts:\n",
    "        frame.row[t+dt] = Clothes(frame.row[t], t, system)\n",
    "        frame2.row[t+dt] = Clothes(frame2.row[t],t,system)\n",
    "        frame3.row[t+dt] = Clothes(frame3.row[t],t,system)\n",
    "        frame4.row[t+dt] = Clothes(frame4.row[t],t,system)\n",
    "        #frame5.row[t+dt] = Clothes(frame5.row[t],t,system)\n",
    "        \n",
    "    # store the final temperature in T_final\n",
    "    system.T_final = get_last_value(frame.dQdt)\n",
    "    system.T_final2 = get_last_value(frame2.dQdt)\n",
    "    system.T_final3 = get_last_value(frame3.dQdt)\n",
    "    system.T_final4 = get_last_value(frame4.dQdt)\n",
    "    #system.T_final5 = get_last_value(frame5.dQdt)\n",
    "    \n",
    "    return frame, frame2, frame3, frame4 #, frame5"
   ]
  },
  {
   "cell_type": "code",
   "execution_count": 6,
   "metadata": {},
   "outputs": [
    {
     "data": {
      "text/plain": [
       "(        HumanTemp      dQdt       top    bottom     socks    rHuman   Atop  \\\n",
       " 0.0000     310.15  0.000000  0.360915  0.184859  0.035211  0.003874  0.752   \n",
       " 0.0007     310.15  0.297681  0.360915  0.184859  0.035211  0.003874  0.752   \n",
       " 0.0014     310.15  0.595363  0.360915  0.184859  0.035211  0.003874  0.752   \n",
       " 0.0021     310.15  0.893044  0.360915  0.184859  0.035211  0.003874  0.752   \n",
       " 0.0028     310.15  1.190725  0.360915  0.184859  0.035211  0.003874  0.752   \n",
       " 0.0035     310.15  1.488407  0.360915  0.184859  0.035211  0.003874  0.752   \n",
       " 0.0042     310.15  1.786088  0.360915  0.184859  0.035211  0.003874  0.752   \n",
       " 0.0049     310.15  2.083769  0.360915  0.184859  0.035211  0.003874  0.752   \n",
       " 0.0056     310.15  2.381451  0.360915  0.184859  0.035211  0.003874  0.752   \n",
       " 0.0063     310.15  2.679132  0.360915  0.184859  0.035211  0.003874  0.752   \n",
       " 0.0070     310.15  2.976813  0.360915  0.184859  0.035211  0.003874  0.752   \n",
       " 0.0077     310.15  3.274495  0.360915  0.184859  0.035211  0.003874  0.752   \n",
       " 0.0084     310.15  3.572176  0.360915  0.184859  0.035211  0.003874  0.752   \n",
       " 0.0091     310.15  3.869857  0.360915  0.184859  0.035211  0.003874  0.752   \n",
       " 0.0098     310.15  4.167539  0.360915  0.184859  0.035211  0.003874  0.752   \n",
       " 0.0105     310.15  4.465220  0.360915  0.184859  0.035211  0.003874  0.752   \n",
       " 0.0112     310.15  4.762901  0.360915  0.184859  0.035211  0.003874  0.752   \n",
       " 0.0119     310.15  5.060583  0.360915  0.184859  0.035211  0.003874  0.752   \n",
       " 0.0126     310.15  5.358264  0.360915  0.184859  0.035211  0.003874  0.752   \n",
       " 0.0133     310.15  5.655945  0.360915  0.184859  0.035211  0.003874  0.752   \n",
       " 0.0140     310.15  5.953627  0.360915  0.184859  0.035211  0.003874  0.752   \n",
       " 0.0147     310.15  6.251308  0.360915  0.184859  0.035211  0.003874  0.752   \n",
       " 0.0154     310.15  6.548989  0.360915  0.184859  0.035211  0.003874  0.752   \n",
       " 0.0161     310.15  6.846671  0.360915  0.184859  0.035211  0.003874  0.752   \n",
       " 0.0168     310.15  7.144352  0.360915  0.184859  0.035211  0.003874  0.752   \n",
       " 0.0175     310.15  7.442033  0.360915  0.184859  0.035211  0.003874  0.752   \n",
       " 0.0182     310.15  7.739715  0.360915  0.184859  0.035211  0.003874  0.752   \n",
       " 0.0189     310.15  8.037396  0.360915  0.184859  0.035211  0.003874  0.752   \n",
       " 0.0196     310.15  8.335077  0.360915  0.184859  0.035211  0.003874  0.752   \n",
       " 0.0203     310.15  8.632759  0.360915  0.184859  0.035211  0.003874  0.752   \n",
       " \n",
       "         Abottom  Asocks  \n",
       " 0.0000     0.72   0.112  \n",
       " 0.0007     0.72   0.112  \n",
       " 0.0014     0.72   0.112  \n",
       " 0.0021     0.72   0.112  \n",
       " 0.0028     0.72   0.112  \n",
       " 0.0035     0.72   0.112  \n",
       " 0.0042     0.72   0.112  \n",
       " 0.0049     0.72   0.112  \n",
       " 0.0056     0.72   0.112  \n",
       " 0.0063     0.72   0.112  \n",
       " 0.0070     0.72   0.112  \n",
       " 0.0077     0.72   0.112  \n",
       " 0.0084     0.72   0.112  \n",
       " 0.0091     0.72   0.112  \n",
       " 0.0098     0.72   0.112  \n",
       " 0.0105     0.72   0.112  \n",
       " 0.0112     0.72   0.112  \n",
       " 0.0119     0.72   0.112  \n",
       " 0.0126     0.72   0.112  \n",
       " 0.0133     0.72   0.112  \n",
       " 0.0140     0.72   0.112  \n",
       " 0.0147     0.72   0.112  \n",
       " 0.0154     0.72   0.112  \n",
       " 0.0161     0.72   0.112  \n",
       " 0.0168     0.72   0.112  \n",
       " 0.0175     0.72   0.112  \n",
       " 0.0182     0.72   0.112  \n",
       " 0.0189     0.72   0.112  \n",
       " 0.0196     0.72   0.112  \n",
       " 0.0203     0.72   0.112  ,\n",
       "         HumanTemp        dQdt      top    bottom     socks    rHuman   Atop  \\\n",
       " 0.0000     310.15    0.000000  0.06162  0.079225  0.026408  0.003874  0.192   \n",
       " 0.0007     310.15    6.232504  0.06162  0.079225  0.026408  0.003874  0.192   \n",
       " 0.0014     310.15   12.465008  0.06162  0.079225  0.026408  0.003874  0.192   \n",
       " 0.0021     310.15   18.697513  0.06162  0.079225  0.026408  0.003874  0.192   \n",
       " 0.0028     310.15   24.930017  0.06162  0.079225  0.026408  0.003874  0.192   \n",
       " 0.0035     310.15   31.162521  0.06162  0.079225  0.026408  0.003874  0.192   \n",
       " 0.0042     310.15   37.395025  0.06162  0.079225  0.026408  0.003874  0.192   \n",
       " 0.0049     310.15   43.627529  0.06162  0.079225  0.026408  0.003874  0.192   \n",
       " 0.0056     310.15   49.860034  0.06162  0.079225  0.026408  0.003874  0.192   \n",
       " 0.0063     310.15   56.092538  0.06162  0.079225  0.026408  0.003874  0.192   \n",
       " 0.0070     310.15   62.325042  0.06162  0.079225  0.026408  0.003874  0.192   \n",
       " 0.0077     310.15   68.557546  0.06162  0.079225  0.026408  0.003874  0.192   \n",
       " 0.0084     310.15   74.790050  0.06162  0.079225  0.026408  0.003874  0.192   \n",
       " 0.0091     310.15   81.022555  0.06162  0.079225  0.026408  0.003874  0.192   \n",
       " 0.0098     310.15   87.255059  0.06162  0.079225  0.026408  0.003874  0.192   \n",
       " 0.0105     310.15   93.487563  0.06162  0.079225  0.026408  0.003874  0.192   \n",
       " 0.0112     310.15   99.720067  0.06162  0.079225  0.026408  0.003874  0.192   \n",
       " 0.0119     310.15  105.952571  0.06162  0.079225  0.026408  0.003874  0.192   \n",
       " 0.0126     310.15  112.185076  0.06162  0.079225  0.026408  0.003874  0.192   \n",
       " 0.0133     310.15  118.417580  0.06162  0.079225  0.026408  0.003874  0.192   \n",
       " 0.0140     310.15  124.650084  0.06162  0.079225  0.026408  0.003874  0.192   \n",
       " 0.0147     310.15  130.882588  0.06162  0.079225  0.026408  0.003874  0.192   \n",
       " 0.0154     310.15  137.115093  0.06162  0.079225  0.026408  0.003874  0.192   \n",
       " 0.0161     310.15  143.347597  0.06162  0.079225  0.026408  0.003874  0.192   \n",
       " 0.0168     310.15  149.580101  0.06162  0.079225  0.026408  0.003874  0.192   \n",
       " 0.0175     310.15  155.812605  0.06162  0.079225  0.026408  0.003874  0.192   \n",
       " 0.0182     310.15  162.045109  0.06162  0.079225  0.026408  0.003874  0.192   \n",
       " 0.0189     310.15  168.277614  0.06162  0.079225  0.026408  0.003874  0.192   \n",
       " 0.0196     310.15  174.510118  0.06162  0.079225  0.026408  0.003874  0.192   \n",
       " 0.0203     310.15  180.742622  0.06162  0.079225  0.026408  0.003874  0.192   \n",
       " \n",
       "         Abottom  Asocks  \n",
       " 0.0000    0.288    0.08  \n",
       " 0.0007    0.288    0.08  \n",
       " 0.0014    0.288    0.08  \n",
       " 0.0021    0.288    0.08  \n",
       " 0.0028    0.288    0.08  \n",
       " 0.0035    0.288    0.08  \n",
       " 0.0042    0.288    0.08  \n",
       " 0.0049    0.288    0.08  \n",
       " 0.0056    0.288    0.08  \n",
       " 0.0063    0.288    0.08  \n",
       " 0.0070    0.288    0.08  \n",
       " 0.0077    0.288    0.08  \n",
       " 0.0084    0.288    0.08  \n",
       " 0.0091    0.288    0.08  \n",
       " 0.0098    0.288    0.08  \n",
       " 0.0105    0.288    0.08  \n",
       " 0.0112    0.288    0.08  \n",
       " 0.0119    0.288    0.08  \n",
       " 0.0126    0.288    0.08  \n",
       " 0.0133    0.288    0.08  \n",
       " 0.0140    0.288    0.08  \n",
       " 0.0147    0.288    0.08  \n",
       " 0.0154    0.288    0.08  \n",
       " 0.0161    0.288    0.08  \n",
       " 0.0168    0.288    0.08  \n",
       " 0.0175    0.288    0.08  \n",
       " 0.0182    0.288    0.08  \n",
       " 0.0189    0.288    0.08  \n",
       " 0.0196    0.288    0.08  \n",
       " 0.0203    0.288    0.08  ,\n",
       "         HumanTemp       dQdt       top    bottom     socks    rHuman  Atop  \\\n",
       " 0.0000     310.15   0.000000  0.334507  0.299296  0.026408  0.003874  0.72   \n",
       " 0.0007     310.15   0.565960  0.334507  0.299296  0.026408  0.003874  0.72   \n",
       " 0.0014     310.15   1.131920  0.334507  0.299296  0.026408  0.003874  0.72   \n",
       " 0.0021     310.15   1.697880  0.334507  0.299296  0.026408  0.003874  0.72   \n",
       " 0.0028     310.15   2.263840  0.334507  0.299296  0.026408  0.003874  0.72   \n",
       " 0.0035     310.15   2.829800  0.334507  0.299296  0.026408  0.003874  0.72   \n",
       " 0.0042     310.15   3.395760  0.334507  0.299296  0.026408  0.003874  0.72   \n",
       " 0.0049     310.15   3.961720  0.334507  0.299296  0.026408  0.003874  0.72   \n",
       " 0.0056     310.15   4.527679  0.334507  0.299296  0.026408  0.003874  0.72   \n",
       " 0.0063     310.15   5.093639  0.334507  0.299296  0.026408  0.003874  0.72   \n",
       " 0.0070     310.15   5.659599  0.334507  0.299296  0.026408  0.003874  0.72   \n",
       " 0.0077     310.15   6.225559  0.334507  0.299296  0.026408  0.003874  0.72   \n",
       " 0.0084     310.15   6.791519  0.334507  0.299296  0.026408  0.003874  0.72   \n",
       " 0.0091     310.15   7.357479  0.334507  0.299296  0.026408  0.003874  0.72   \n",
       " 0.0098     310.15   7.923439  0.334507  0.299296  0.026408  0.003874  0.72   \n",
       " 0.0105     310.15   8.489399  0.334507  0.299296  0.026408  0.003874  0.72   \n",
       " 0.0112     310.15   9.055359  0.334507  0.299296  0.026408  0.003874  0.72   \n",
       " 0.0119     310.15   9.621319  0.334507  0.299296  0.026408  0.003874  0.72   \n",
       " 0.0126     310.15  10.187279  0.334507  0.299296  0.026408  0.003874  0.72   \n",
       " 0.0133     310.15  10.753239  0.334507  0.299296  0.026408  0.003874  0.72   \n",
       " 0.0140     310.15  11.319199  0.334507  0.299296  0.026408  0.003874  0.72   \n",
       " 0.0147     310.15  11.885159  0.334507  0.299296  0.026408  0.003874  0.72   \n",
       " 0.0154     310.15  12.451118  0.334507  0.299296  0.026408  0.003874  0.72   \n",
       " 0.0161     310.15  13.017078  0.334507  0.299296  0.026408  0.003874  0.72   \n",
       " 0.0168     310.15  13.583038  0.334507  0.299296  0.026408  0.003874  0.72   \n",
       " 0.0175     310.15  14.148998  0.334507  0.299296  0.026408  0.003874  0.72   \n",
       " 0.0182     310.15  14.714958  0.334507  0.299296  0.026408  0.003874  0.72   \n",
       " 0.0189     310.15  15.280918  0.334507  0.299296  0.026408  0.003874  0.72   \n",
       " 0.0196     310.15  15.846878  0.334507  0.299296  0.026408  0.003874  0.72   \n",
       " 0.0203     310.15  16.412838  0.334507  0.299296  0.026408  0.003874  0.72   \n",
       " \n",
       "         Abottom  Asocks  \n",
       " 0.0000    0.704   0.112  \n",
       " 0.0007    0.704   0.112  \n",
       " 0.0014    0.704   0.112  \n",
       " 0.0021    0.704   0.112  \n",
       " 0.0028    0.704   0.112  \n",
       " 0.0035    0.704   0.112  \n",
       " 0.0042    0.704   0.112  \n",
       " 0.0049    0.704   0.112  \n",
       " 0.0056    0.704   0.112  \n",
       " 0.0063    0.704   0.112  \n",
       " 0.0070    0.704   0.112  \n",
       " 0.0077    0.704   0.112  \n",
       " 0.0084    0.704   0.112  \n",
       " 0.0091    0.704   0.112  \n",
       " 0.0098    0.704   0.112  \n",
       " 0.0105    0.704   0.112  \n",
       " 0.0112    0.704   0.112  \n",
       " 0.0119    0.704   0.112  \n",
       " 0.0126    0.704   0.112  \n",
       " 0.0133    0.704   0.112  \n",
       " 0.0140    0.704   0.112  \n",
       " 0.0147    0.704   0.112  \n",
       " 0.0154    0.704   0.112  \n",
       " 0.0161    0.704   0.112  \n",
       " 0.0168    0.704   0.112  \n",
       " 0.0175    0.704   0.112  \n",
       " 0.0182    0.704   0.112  \n",
       " 0.0189    0.704   0.112  \n",
       " 0.0196    0.704   0.112  \n",
       " 0.0203    0.704   0.112  ,\n",
       "         HumanTemp       dQdt       top    bottom     socks    rHuman  Atop  \\\n",
       " 0.0000     310.15   0.000000  0.730634  0.519366  0.017606  0.003874  0.64   \n",
       " 0.0007     310.15   1.300317  0.730634  0.519366  0.017606  0.003874  0.64   \n",
       " 0.0014     310.15   2.600634  0.730634  0.519366  0.017606  0.003874  0.64   \n",
       " 0.0021     310.15   3.900951  0.730634  0.519366  0.017606  0.003874  0.64   \n",
       " 0.0028     310.15   5.201268  0.730634  0.519366  0.017606  0.003874  0.64   \n",
       " 0.0035     310.15   6.501585  0.730634  0.519366  0.017606  0.003874  0.64   \n",
       " 0.0042     310.15   7.801902  0.730634  0.519366  0.017606  0.003874  0.64   \n",
       " 0.0049     310.15   9.102219  0.730634  0.519366  0.017606  0.003874  0.64   \n",
       " 0.0056     310.15  10.402537  0.730634  0.519366  0.017606  0.003874  0.64   \n",
       " 0.0063     310.15  11.702854  0.730634  0.519366  0.017606  0.003874  0.64   \n",
       " 0.0070     310.15  13.003171  0.730634  0.519366  0.017606  0.003874  0.64   \n",
       " 0.0077     310.15  14.303488  0.730634  0.519366  0.017606  0.003874  0.64   \n",
       " 0.0084     310.15  15.603805  0.730634  0.519366  0.017606  0.003874  0.64   \n",
       " 0.0091     310.15  16.904122  0.730634  0.519366  0.017606  0.003874  0.64   \n",
       " 0.0098     310.15  18.204439  0.730634  0.519366  0.017606  0.003874  0.64   \n",
       " 0.0105     310.15  19.504756  0.730634  0.519366  0.017606  0.003874  0.64   \n",
       " 0.0112     310.15  20.805073  0.730634  0.519366  0.017606  0.003874  0.64   \n",
       " 0.0119     310.15  22.105390  0.730634  0.519366  0.017606  0.003874  0.64   \n",
       " 0.0126     310.15  23.405707  0.730634  0.519366  0.017606  0.003874  0.64   \n",
       " 0.0133     310.15  24.706024  0.730634  0.519366  0.017606  0.003874  0.64   \n",
       " 0.0140     310.15  26.006341  0.730634  0.519366  0.017606  0.003874  0.64   \n",
       " 0.0147     310.15  27.306658  0.730634  0.519366  0.017606  0.003874  0.64   \n",
       " 0.0154     310.15  28.606976  0.730634  0.519366  0.017606  0.003874  0.64   \n",
       " 0.0161     310.15  29.907293  0.730634  0.519366  0.017606  0.003874  0.64   \n",
       " 0.0168     310.15  31.207610  0.730634  0.519366  0.017606  0.003874  0.64   \n",
       " 0.0175     310.15  32.507927  0.730634  0.519366  0.017606  0.003874  0.64   \n",
       " 0.0182     310.15  33.808244  0.730634  0.519366  0.017606  0.003874  0.64   \n",
       " 0.0189     310.15  35.108561  0.730634  0.519366  0.017606  0.003874  0.64   \n",
       " 0.0196     310.15  36.408878  0.730634  0.519366  0.017606  0.003874  0.64   \n",
       " 0.0203     310.15  37.709195  0.730634  0.519366  0.017606  0.003874  0.64   \n",
       " \n",
       "         Abottom  Asocks  \n",
       " 0.0000    0.304    0.56  \n",
       " 0.0007    0.304    0.56  \n",
       " 0.0014    0.304    0.56  \n",
       " 0.0021    0.304    0.56  \n",
       " 0.0028    0.304    0.56  \n",
       " 0.0035    0.304    0.56  \n",
       " 0.0042    0.304    0.56  \n",
       " 0.0049    0.304    0.56  \n",
       " 0.0056    0.304    0.56  \n",
       " 0.0063    0.304    0.56  \n",
       " 0.0070    0.304    0.56  \n",
       " 0.0077    0.304    0.56  \n",
       " 0.0084    0.304    0.56  \n",
       " 0.0091    0.304    0.56  \n",
       " 0.0098    0.304    0.56  \n",
       " 0.0105    0.304    0.56  \n",
       " 0.0112    0.304    0.56  \n",
       " 0.0119    0.304    0.56  \n",
       " 0.0126    0.304    0.56  \n",
       " 0.0133    0.304    0.56  \n",
       " 0.0140    0.304    0.56  \n",
       " 0.0147    0.304    0.56  \n",
       " 0.0154    0.304    0.56  \n",
       " 0.0161    0.304    0.56  \n",
       " 0.0168    0.304    0.56  \n",
       " 0.0175    0.304    0.56  \n",
       " 0.0182    0.304    0.56  \n",
       " 0.0189    0.304    0.56  \n",
       " 0.0196    0.304    0.56  \n",
       " 0.0203    0.304    0.56  )"
      ]
     },
     "execution_count": 6,
     "metadata": {},
     "output_type": "execute_result"
    }
   ],
   "source": [
    "results = run_simulation(human, Clothes)"
   ]
  },
  {
   "cell_type": "code",
   "execution_count": 7,
   "metadata": {},
   "outputs": [
    {
     "data": {
      "image/png": "[encoded data removed]",
      "text/plain": [
       "<Figure size 432x288 with 1 Axes>"
      ]
     },
     "metadata": {
      "needs_background": "light"
     },
     "output_type": "display_data"
    }
   ],
   "source": [
    "plot(results[0].dQdt, label='Winter Clothes')\n",
    "plot(results[1].dQdt, label='Summer Clothes')\n",
    "plot(results[2].dQdt, label='Lounge Clothes')\n",
    "plot(results[3].dQdt, label='Dress Clothes')\n",
    "#plot(results[4].dQdt, label='Nothing')\n",
    "\n",
    "decorate(xlabel='Time (day)',\n",
    "         ylabel='Heat Loss (W)')"
   ]
  },
  {
   "cell_type": "code",
   "execution_count": 8,
   "metadata": {},
   "outputs": [
    {
     "data": {
      "text/html": [
       "8.632758821592356 watt"
      ],
      "text/latex": [
       "$8.632758821592356 watt$"
      ],
      "text/plain": [
       "<Quantity(8.632758821592356, 'watt')>"
      ]
     },
     "execution_count": 8,
     "metadata": {},
     "output_type": "execute_result"
    }
   ],
   "source": [
    "human.T_final * watt"
   ]
  },
  {
   "cell_type": "code",
   "execution_count": 9,
   "metadata": {},
   "outputs": [
    {
     "data": {
      "text/plain": [
       "180.74262195829974"
      ]
     },
     "execution_count": 9,
     "metadata": {},
     "output_type": "execute_result"
    }
   ],
   "source": [
    "human.T_final2"
   ]
  },
  {
   "cell_type": "code",
   "execution_count": 10,
   "metadata": {},
   "outputs": [
    {
     "data": {
      "text/plain": [
       "16.412837976716492"
      ]
     },
     "execution_count": 10,
     "metadata": {},
     "output_type": "execute_result"
    }
   ],
   "source": [
    "human.T_final3"
   ]
  },
  {
   "cell_type": "code",
   "execution_count": 11,
   "metadata": {},
   "outputs": [
    {
     "data": {
      "text/plain": [
       "37.70919500618404"
      ]
     },
     "execution_count": 11,
     "metadata": {},
     "output_type": "execute_result"
    }
   ],
   "source": [
    "human.T_final4"
   ]
  },
  {
   "cell_type": "code",
   "execution_count": 14,
   "metadata": {},
   "outputs": [
    {
     "data": {
      "image/png": "[encoded data removed]",
      "text/plain": [
       "<Figure size 432x288 with 1 Axes>"
      ]
     },
     "metadata": {
      "needs_background": "light"
     },
     "output_type": "display_data"
    }
   ],
   "source": [
    "rValueResult = []\n",
    "AreaResult = []\n",
    "for tClothing in range(0,4):    \n",
    "    rValueResult += [results[tClothing].top[0] + results[tClothing].bottom[0] + results[tClothing].socks[0]]\n",
    "    AreaResult += [results[tClothing].Atop[0] + results[tClothing].Abottom[0] + results[tClothing].Asocks[0]]\n",
    "plot(AreaResult[0], rValueResult[0], 'o', label='Winter Clothes')\n",
    "plot(AreaResult[1], rValueResult[1], 'o', label='Summer Clothes')\n",
    "plot(AreaResult[2], rValueResult[2], 'o', label='Lounge Clothes')\n",
    "plot(AreaResult[3], rValueResult[3], 'o', label='Dress Clothes')\n",
    "decorate(xlabel='Area Clothing Covers (m^2)',\n",
    "        ylabel='r Values (K *m²/W)')"
   ]
  },
  {
   "cell_type": "code",
   "execution_count": null,
   "metadata": {},
   "outputs": [],
   "source": []
  }
 ],
 "metadata": {
  "kernelspec": {
   "display_name": "Python 3",
   "language": "python",
   "name": "python3"
  },
  "language_info": {
   "codemirror_mode": {
    "name": "ipython",
    "version": 3
   },
   "file_extension": ".py",
   "mimetype": "text/x-python",
   "name": "python",
   "nbconvert_exporter": "python",
   "pygments_lexer": "ipython3",
   "version": "3.6.6"
  }
 },
 "nbformat": 4,
 "nbformat_minor": 2
}
