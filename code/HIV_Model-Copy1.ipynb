{
 "cells": [
  {
   "cell_type": "markdown",
   "metadata": {},
   "source": [
    "# A Model of the Reduction of HIV Concentration During Acute Infection\n",
    "\n",
    "Kristtiya Vachiraseneekul Guerra"
   ]
  },
  {
   "cell_type": "code",
   "execution_count": null,
   "metadata": {},
   "outputs": [],
   "source": [
    "# Configure Jupyter so figures appear in the notebook\n",
    "%matplotlib inline\n",
    "\n",
    "# Configure Jupyter to display the assigned value after an assignment\n",
    "%config InteractiveShell.ast_node_interactivity='last_expr_or_assign'\n",
    "\n",
    "# import functions from the modsim.py module\n",
    "from modsim import *"
   ]
  },
  {
   "cell_type": "code",
   "execution_count": null,
   "metadata": {},
   "outputs": [],
   "source": [
    "init = State(R=1000, L=0, V=100, E=0)\n",
    "system = System(t0 = 0,\n",
    "                t_end = 2000,\n",
    "                gamma = 1.36,\n",
    "                tau = 0.2,\n",
    "                mu = 0.00136,\n",
    "                beta = 0.00027,\n",
    "                rho = 0.1,\n",
    "                alpha = 0.036,\n",
    "                delta = 0.33,\n",
    "                pi = 100,\n",
    "                sigma = 2,\n",
    "                dt = .01)\n",
    "\n",
    "\n",
    "def slope_func(state, t, system):\n",
    "    \"\"\"Compute slopes for the Lotka-Volterra model.\n",
    "    \n",
    "    state: State(x, y)\n",
    "    t: time\n",
    "    system: System object\n",
    "    \n",
    "    returns: pair of derivatives\n",
    "    \"\"\"\n",
    "    unpack(system)\n",
    "    r, l, v, e = state\n",
    "  \n",
    "\n",
    "    dldt = (system.rho * system.beta * r * v) - (system.mu * l) - (system.alpha * l)\n",
    "    drdt = (system.gamma * system.tau) - (system.mu * r) - (system.beta * r * v)\n",
    "    dvdt = (1 - system.rho) * system.beta * r * v + (system.alpha * l) - (system.delta * e)\n",
    "    dedt = system.pi * e - system.sigma * v\n",
    "    \n",
    "    return drdt, dldt, dvdt, dedt\n"
   ]
  },
  {
   "cell_type": "code",
   "execution_count": null,
   "metadata": {},
   "outputs": [],
   "source": [
    "results, details = run_ode_solver(system, slope_func)\n",
    "details"
   ]
  },
  {
   "cell_type": "code",
   "execution_count": null,
   "metadata": {},
   "outputs": [],
   "source": [
    "results.plot()"
   ]
  },
  {
   "cell_type": "code",
   "execution_count": null,
   "metadata": {},
   "outputs": [],
   "source": []
  }
 ],
 "metadata": {
  "kernelspec": {
   "display_name": "Python 3",
   "language": "python",
   "name": "python3"
  },
  "language_info": {
   "codemirror_mode": {
    "name": "ipython",
    "version": 3
   },
   "file_extension": ".py",
   "mimetype": "text/x-python",
   "name": "python",
   "nbconvert_exporter": "python",
   "pygments_lexer": "ipython3",
   "version": "3.6.6"
  }
 },
 "nbformat": 4,
 "nbformat_minor": 2
}
